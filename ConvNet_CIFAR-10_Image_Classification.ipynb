{
 "cells": [
  {
   "cell_type": "markdown",
   "metadata": {
    "collapsed": true
   },
   "source": [
    "# Image Classification\n",
    "In this project, I'll classify images from the [CIFAR-10 dataset](https://www.cs.toronto.edu/~kriz/cifar.html).  The dataset consists of airplanes, dogs, cats, and other objects. I'll preprocess the images, then train a convolutional neural network on all the samples. The images will be normalized and the labels one-hot encoded.  I'll apply a convolutional net, max pooling, dropout, and fully connected layers.  At the end, I'll test the neural network's predictions on the sample images.\n",
    "## Get the Data\n",
    "Run the following cell to download the [CIFAR-10 dataset for python](https://www.cs.toronto.edu/~kriz/cifar-10-python.tar.gz)."
   ]
  },
  {
   "cell_type": "code",
   "execution_count": 1,
   "metadata": {},
   "outputs": [
    {
     "name": "stdout",
     "output_type": "stream",
     "text": [
      "All files found!\n"
     ]
    }
   ],
   "source": [
    "from urllib.request import urlretrieve\n",
    "from os.path import isfile, isdir\n",
    "from tqdm import tqdm\n",
    "import problem_unittests as tests\n",
    "import tarfile\n",
    "\n",
    "cifar10_dataset_folder_path = 'cifar-10-batches-py'\n",
    "\n",
    "# Use Floyd's cifar-10 dataset if present\n",
    "floyd_cifar10_location = '/input/cifar-10/python.tar.gz'\n",
    "if isfile(floyd_cifar10_location):\n",
    "    tar_gz_path = floyd_cifar10_location\n",
    "else:\n",
    "    tar_gz_path = 'cifar-10-python.tar.gz'\n",
    "\n",
    "class DLProgress(tqdm):\n",
    "    last_block = 0\n",
    "\n",
    "    def hook(self, block_num=1, block_size=1, total_size=None):\n",
    "        self.total = total_size\n",
    "        self.update((block_num - self.last_block) * block_size)\n",
    "        self.last_block = block_num\n",
    "\n",
    "if not isfile(tar_gz_path):\n",
    "    with DLProgress(unit='B', unit_scale=True, miniters=1, desc='CIFAR-10 Dataset') as pbar:\n",
    "        urlretrieve(\n",
    "            'https://www.cs.toronto.edu/~kriz/cifar-10-python.tar.gz',\n",
    "            tar_gz_path,\n",
    "            pbar.hook)\n",
    "\n",
    "if not isdir(cifar10_dataset_folder_path):\n",
    "    with tarfile.open(tar_gz_path) as tar:\n",
    "        tar.extractall()\n",
    "        tar.close()\n",
    "\n",
    "\n",
    "tests.test_folder_path(cifar10_dataset_folder_path)"
   ]
  },
  {
   "cell_type": "code",
   "execution_count": 2,
   "metadata": {},
   "outputs": [
    {
     "name": "stdout",
     "output_type": "stream",
     "text": [
      "\n",
      "Stats of batch 3:\n",
      "Samples: 10000\n",
      "Label Counts: {0: 994, 1: 1042, 2: 965, 3: 997, 4: 990, 5: 1029, 6: 978, 7: 1015, 8: 961, 9: 1029}\n",
      "First 20 Labels: [8, 5, 0, 6, 9, 2, 8, 3, 6, 2, 7, 4, 6, 9, 0, 0, 7, 3, 7, 2]\n",
      "\n",
      "Example of Image 27:\n",
      "Image - Min Value: 18 Max Value: 236\n",
      "Image - Shape: (32, 32, 3)\n",
      "Label - Label Id: 6 Name: frog\n"
     ]
    },
    {
     "data": {
      "image/png": "[encoded data removed]",
      "text/plain": [
       "<matplotlib.figure.Figure at 0x10f37cac8>"
      ]
     },
     "metadata": {
      "image/png": {
       "height": 250,
       "width": 253
      }
     },
     "output_type": "display_data"
    }
   ],
   "source": [
    "%matplotlib inline\n",
    "%config InlineBackend.figure_format = 'retina'\n",
    "\n",
    "import helper\n",
    "import numpy as np\n",
    "\n",
    "# Explore the dataset\n",
    "batch_id = 3\n",
    "sample_id = 27\n",
    "helper.display_stats(cifar10_dataset_folder_path, batch_id, sample_id)"
   ]
  },
  {
   "cell_type": "markdown",
   "metadata": {},
   "source": [
    "## Implement Preprocess Functions\n",
    "### Normalize\n",
    "In the cell below the `normalize` function will take in image data, `x`, and return it as a normalized Numpy array. The values should be in the range of 0 to 1, inclusive.  The return object should be the same shape as `x`."
   ]
  },
  {
   "cell_type": "code",
   "execution_count": 3,
   "metadata": {},
   "outputs": [
    {
     "name": "stdout",
     "output_type": "stream",
     "text": [
      "Tests Passed\n"
     ]
    }
   ],
   "source": [
    "from sklearn import preprocessing\n",
    "def normalize(x):\n",
    "    \"\"\"\n",
    "    Normalize a list of sample image data in the range of 0 to 1\n",
    "    : x: List of image data.  The image shape is (32, 32, 3)\n",
    "    : return: Numpy array of normalize data\n",
    "    min-max function: X' = a + ( ((x- Xmin)/(b-a))  /  (Xmax - Xmin) )\n",
    "    \"\"\"\n",
    "    b = 1.0\n",
    "    a = 0.0\n",
    "    xMax = np.max(x)\n",
    "    xMin = np.min(x)\n",
    "    return (a + (((x - xMin)/(b-a)) / (xMax - xMin)) )\n",
    "\n",
    "tests.test_normalize(normalize)"
   ]
  },
  {
   "cell_type": "markdown",
   "metadata": {},
   "source": [
    "### One-hot encode\n",
    "Just like the previous code cell, this is a function for preprocessing.  The `one_hot_encode` function will take input, `x`, are a list of labels.  The function will return the list of labels as One-Hot encoded Numpy array.  The possible values for labels are 0 to 9. The one-hot encoding function should return the same encoding for each value between each call to `one_hot_encode`.  Will also save the map of encodings outside the function."
   ]
  },
  {
   "cell_type": "code",
   "execution_count": 4,
   "metadata": {},
   "outputs": [
    {
     "name": "stdout",
     "output_type": "stream",
     "text": [
      "Tests Passed\n"
     ]
    }
   ],
   "source": [
    "from sklearn import preprocessing\n",
    "def one_hot_encode(x):\n",
    "    \"\"\"\n",
    "    One hot encode a list of sample labels. Return a one-hot encoded vector for each label.\n",
    "    : x: List of sample Labels\n",
    "    : return: Numpy array of one-hot encoded labels\n",
    "    return np.eye(10)[x]\n",
    "    \"\"\"\n",
    "    labels = np.array(x)\n",
    "    lb = preprocessing.LabelBinarizer()\n",
    "    lb.fit([0,1,2,3,4,5,6,7,8,9])\n",
    "    return lb.transform(labels)\n",
    "\n",
    "tests.test_one_hot_encode(one_hot_encode)"
   ]
  },
  {
   "cell_type": "markdown",
   "metadata": {},
   "source": [
    "### Randomize Data\n",
    "As you saw from exploring the data above, the order of the samples are randomized.  It doesn't hurt to randomize it again. (To do)"
   ]
  },
  {
   "cell_type": "markdown",
   "metadata": {},
   "source": [
    "## Preprocess all the data and save it\n",
    "Running the code cell below will preprocess all the CIFAR-10 data and save it to file. The code below also uses 10% of the training data for validation."
   ]
  },
  {
   "cell_type": "code",
   "execution_count": 5,
   "metadata": {
    "collapsed": true
   },
   "outputs": [],
   "source": [
    "# Preprocess Training, Validation, and Testing Data\n",
    "helper.preprocess_and_save_data(cifar10_dataset_folder_path, normalize, one_hot_encode)"
   ]
  },
  {
   "cell_type": "markdown",
   "metadata": {},
   "source": [
    "# Check Point\n",
    "This is the first checkpoint. "
   ]
  },
  {
   "cell_type": "code",
   "execution_count": 6,
   "metadata": {
    "collapsed": true
   },
   "outputs": [],
   "source": [
    "import pickle\n",
    "import problem_unittests as tests\n",
    "import helper\n",
    "\n",
    "# Load the Preprocessed Validation data\n",
    "valid_features, valid_labels = pickle.load(open('preprocess_validation.p', mode='rb'))"
   ]
  },
  {
   "cell_type": "markdown",
   "metadata": {},
   "source": [
    "## Build the network\n",
    "For the neural network, you'll build each layer into a function.  Most of the code you've seen has been outside of functions. To test your code more thoroughly, we require that you put each layer in a function.  This allows us to give you better feedback and test for simple mistakes using our unittests before you submit your project.\n",
    "\n",
    ">**Note:** Quick access to Tensor API - [TensorFlow Layers](https://www.tensorflow.org/api_docs/python/tf/layers) or [TensorFlow Layers (contrib)](https://www.tensorflow.org/api_guides/python/contrib.layers) packages to build each layer, except the layers you build in the \"Convolutional and Max Pooling Layer\" section.  TF Layers is similar to Keras's and TFLearn's abstraction to layers.\n",
    "\n",
    ">Tensorflow `conv2d` class, [tf.layers.conv2d](https://www.tensorflow.org/api_docs/python/tf/layers/conv2d).\n",
    "\n",
    ">Tensorflow Neural Network version of `conv2d`, [tf.nn.conv2d](https://www.tensorflow.org/api_docs/python/tf/nn/conv2d). \n",
    "\n",
    "\n",
    "### Input\n",
    "The neural network needs to read the image data, one-hot encoded labels, and dropout keep probability. \n",
    " * Return a [TF Placeholder](https://www.tensorflow.org/api_docs/python/tf/placeholder)\n",
    "\n",
    "Note: `None` for shapes in TensorFlow allow for a dynamic size."
   ]
  },
  {
   "cell_type": "code",
   "execution_count": 7,
   "metadata": {},
   "outputs": [
    {
     "name": "stdout",
     "output_type": "stream",
     "text": [
      "Image Input Tests Passed.\n",
      "Label Input Tests Passed.\n",
      "Keep Prob Tests Passed.\n"
     ]
    }
   ],
   "source": [
    "import tensorflow as tf\n",
    "\n",
    "def neural_net_image_input(image_shape):\n",
    "    \"\"\"\n",
    "    Return a Tensor for a batch of image input\n",
    "    : image_shape: Shape of the images\n",
    "    : return: Tensor for image input.\n",
    "    \"\"\"\n",
    "    # Completed: Implement Function\n",
    "    height, width, depth = image_shape\n",
    "    return tf.placeholder(tf.float32, shape=[None, height, width, depth], name='x')\n",
    "\n",
    "\n",
    "def neural_net_label_input(n_classes):\n",
    "    \"\"\"\n",
    "    Return a Tensor for a batch of label input\n",
    "    : n_classes: Number of classes\n",
    "    : return: Tensor for label input.\n",
    "    \"\"\"\n",
    "    # Completed: Implement Function\n",
    "    return tf.placeholder(tf.float32, shape=[None, n_classes], name='y')\n",
    "\n",
    "\n",
    "def neural_net_keep_prob_input():\n",
    "    \"\"\"\n",
    "    Return a Tensor for keep probability\n",
    "    : return: Tensor for keep probability.\n",
    "    \"\"\"\n",
    "    # Completed: Implement Function\n",
    "    return tf.placeholder(tf.float32, name='keep_prob')\n",
    "\n",
    "\n",
    "tf.reset_default_graph()\n",
    "tests.test_nn_image_inputs(neural_net_image_input)\n",
    "tests.test_nn_label_inputs(neural_net_label_input)\n",
    "tests.test_nn_keep_prob_inputs(neural_net_keep_prob_input)"
   ]
  },
  {
   "cell_type": "markdown",
   "metadata": {},
   "source": [
    "### Convolution and Max Pooling Layer\n",
    "Convolution layers have a lot of success with images. For this code cell, I implement the function `conv2d_maxpool` to apply convolution then max pooling:\n",
    "* Create the weight and bias using `conv_ksize`, `conv_num_outputs` and the shape of `x_tensor`.\n",
    "* Apply a convolution to `x_tensor` using weight and `conv_strides`.\n",
    " * Use 'SAME' padding\n",
    "* Add bias\n",
    "* Add a nonlinear activation to the convolution.\n",
    "* Apply Max Pooling using `pool_ksize` and `pool_strides`.\n",
    " * Use 'SAME' padding"
   ]
  },
  {
   "cell_type": "code",
   "execution_count": 8,
   "metadata": {},
   "outputs": [
    {
     "name": "stdout",
     "output_type": "stream",
     "text": [
      "Tests Passed\n"
     ]
    }
   ],
   "source": [
    "def conv2d_maxpool(x_tensor, conv_num_outputs, conv_ksize, conv_strides, pool_ksize, pool_strides):\n",
    "    \"\"\"\n",
    "    Apply convolution then max pooling to x_tensor\n",
    "    :param x_tensor: TensorFlow Tensor\n",
    "    :param conv_num_outputs: Number of outputs for the convolutional layer\n",
    "    :param conv_ksize: kernal size 2-D Tuple for the convolutional layer\n",
    "    :param conv_strides: Stride 2-D Tuple for convolution\n",
    "    :param pool_ksize: kernal size 2-D Tuple for pool\n",
    "    :param pool_strides: Stride 2-D Tuple for pool\n",
    "    : return: A tensor that represents convolution and max pooling of x_tensor\n",
    "    \"\"\"\n",
    "    #1 Create the variables for the weights and the bias\n",
    "    input_depth = x_tensor.shape[3].value\n",
    "    #input_depth = x_tensor.get_shape().as_list()[3]\n",
    "    weights = tf.Variable(tf.truncated_normal([conv_ksize[0], conv_ksize[1], input_depth, \n",
    "                                               conv_num_outputs], mean=0, stddev=0.1))\n",
    "    bias = tf.Variable(tf.zeros(conv_num_outputs))\n",
    "    \n",
    "    #2 Convolution\n",
    "    conv_layer = tf.nn.conv2d(x_tensor, weights, strides=[1, conv_strides[0], conv_strides[1], 1], padding='SAME')\n",
    "    \n",
    "    #3 Add bias\n",
    "    conv_layer = tf.nn.bias_add(conv_layer, bias)\n",
    "    \n",
    "    #4 Activation layer\n",
    "    conv_layer = tf.nn.relu(conv_layer)\n",
    "    \n",
    "    #5 Convolution #2\n",
    "    conv_layer = tf.nn.conv2d(x_tensor, weights, strides=[1, conv_strides[0], conv_strides[1], 1], padding='SAME')\n",
    "    \n",
    "    #6 Add bias\n",
    "    conv_layer = tf.nn.bias_add(conv_layer, bias)\n",
    "    \n",
    "    #7 Activation layer\n",
    "    conv_layer = tf.nn.relu(conv_layer)\n",
    "    \n",
    "    #8 Max Pooling\n",
    "    conv_layer = tf.nn.max_pool(conv_layer, ksize=[1, pool_ksize[0], pool_ksize[1], 1], \n",
    "                           strides=[1, pool_strides[0], pool_strides[1], 1], padding='SAME')\n",
    "    return conv_layer\n",
    "\n",
    "\n",
    "tests.test_con_pool(conv2d_maxpool)"
   ]
  },
  {
   "cell_type": "markdown",
   "metadata": {},
   "source": [
    "### Flatten Layer\n",
    "The `flatten` function changes the dimension of `x_tensor` from a 4-D tensor to a 2-D tensor.  The output should be the shape (*Batch Size*, *Flattened Image Size*). "
   ]
  },
  {
   "cell_type": "code",
   "execution_count": 9,
   "metadata": {},
   "outputs": [
    {
     "name": "stdout",
     "output_type": "stream",
     "text": [
      "Tests Passed\n"
     ]
    }
   ],
   "source": [
    "def flatten(x_tensor):\n",
    "    \"\"\"\n",
    "    Flatten x_tensor to (Batch Size, Flattened Image Size)\n",
    "    : x_tensor: A tensor of size (Batch Size, ...), where ... are the image dimensions.\n",
    "    : return: A tensor of size (Batch Size, Flattened Image Size).\n",
    "    \"\"\"\n",
    "     # Alternate solution - return tf.contrib.layers.flatten(x_tensor)\n",
    "        \n",
    "        \n",
    "    f_height, f_width, f_depth = x_tensor.get_shape().as_list()[1:]\n",
    "    flat_size = f_height * f_width * f_depth\n",
    "    return tf.reshape(x_tensor, [-1, flat_size])\n",
    "    \n",
    "tests.test_flatten(flatten)"
   ]
  },
  {
   "cell_type": "markdown",
   "metadata": {},
   "source": [
    "### Fully-Connected Layer\n",
    "Implement a `fully_conn` function to apply a fully connected layer to `x_tensor` with the shape (*Batch Size*, *num_outputs*). "
   ]
  },
  {
   "cell_type": "code",
   "execution_count": 10,
   "metadata": {},
   "outputs": [
    {
     "name": "stdout",
     "output_type": "stream",
     "text": [
      "Tests Passed\n"
     ]
    }
   ],
   "source": [
    "def fully_conn(x_tensor, num_outputs):\n",
    "    \"\"\"\n",
    "    Apply a fully connected layer to x_tensor using weight and bias\n",
    "    : x_tensor: A 2-D tensor where the first dimension is batch size.\n",
    "    : num_outputs: The number of output that the new tensor should be.\n",
    "    : return: A 2-D tensor where the second dimension is num_outputs.\n",
    "    \"\"\"\n",
    "    #1 Weights and bias\n",
    "    batch_size = x_tensor.shape[1].value\n",
    "    #batch_size = x_tensor.get_shape().as_list()[-1]\n",
    "    weights = tf.Variable(tf.truncated_normal([batch_size, num_outputs]), name=\"weights_fully_connected\")\n",
    "    bias = tf.Variable(tf.zeros(num_outputs), name=\"bias_fully_connected\")\n",
    "    \n",
    "    #2 Fully connected layer\n",
    "    fc_layer = tf.nn.bias_add(tf.matmul(x_tensor, weights), bias)\n",
    "    \n",
    "    #3 Activation\n",
    "    return tf.nn.relu(fc_layer)\n",
    "\n",
    "\n",
    "tests.test_fully_conn(fully_conn)"
   ]
  },
  {
   "cell_type": "markdown",
   "metadata": {},
   "source": [
    "### Output Layer\n",
    "Implement the `output` function to apply a fully connected layer to `x_tensor` with the shape (*Batch Size*, *num_outputs*).\n",
    "\n",
    "**Note:** Activation, softmax, or cross entropy should **not** be applied to this."
   ]
  },
  {
   "cell_type": "code",
   "execution_count": 11,
   "metadata": {},
   "outputs": [
    {
     "name": "stdout",
     "output_type": "stream",
     "text": [
      "Tests Passed\n"
     ]
    }
   ],
   "source": [
    "def output(x_tensor, num_outputs):\n",
    "    \"\"\"\n",
    "    Apply a output layer to x_tensor using weight and bias\n",
    "    : x_tensor: A 2-D tensor where the first dimension is batch size.\n",
    "    : num_outputs: The number of output that the new tensor should be.\n",
    "    : return: A 2-D tensor where the second dimension is num_outputs.\n",
    "    \"\"\"\n",
    "    #1 Weights and bias\n",
    "    batch_size = x_tensor.shape[1].value\n",
    "    #batch_size = x_tensor.get_shape().as_list()[-1]  \n",
    "    weights = tf.Variable(tf.truncated_normal([batch_size, num_outputs], mean=0, stddev=0.1))\n",
    "    bias = tf.Variable(tf.zeros(num_outputs))\n",
    "    \n",
    "    #2 Fully connected layer\n",
    "    layer_fully_connected = tf.nn.bias_add(tf.matmul(x_tensor, weights), bias)\n",
    "    return layer_fully_connected\n",
    "\n",
    "\n",
    "tests.test_output(output)"
   ]
  },
  {
   "cell_type": "markdown",
   "metadata": {},
   "source": [
    "### The Convolutional Model\n",
    "Implement function `conv_net` to create a convolutional neural network model. The function takes in a batch of images, `x`, and outputs logits.  Use the layers you created above to create this model:\n",
    "\n",
    "* Apply 1, 2, or 3 Convolution and Max Pool layers\n",
    "* Apply a Flatten Layer\n",
    "* Apply 1, 2, or 3 Fully Connected Layers\n",
    "* Apply an Output Layer\n",
    "* Return the output\n",
    "* Apply [TensorFlow's Dropout](https://www.tensorflow.org/api_docs/python/tf/nn/dropout) to one or more layers in the model using `keep_prob`. "
   ]
  },
  {
   "cell_type": "code",
   "execution_count": 20,
   "metadata": {},
   "outputs": [
    {
     "name": "stdout",
     "output_type": "stream",
     "text": [
      "Neural Network Built!\n"
     ]
    }
   ],
   "source": [
    "def conv_net(x, keep_prob):\n",
    "    \"\"\"\n",
    "    Create a convolutional neural network model\n",
    "    : x: Placeholder tensor that holds image data.\n",
    "    : keep_prob: Placeholder tensor that hold dropout keep probability.\n",
    "    : return: Tensor that represents logits\n",
    "    \"\"\"\n",
    "    # Play around with different number of outputs, kernel size and stride\n",
    "    # Function Definition from Above:\n",
    "    # conv2d_maxpool(x_tensor, conv_num_outputs, conv_ksize, \n",
    "    #                          conv_strides, pool_ksize, pool_strides)\n",
    "    conv_outputs = [32, 96, 192]\n",
    "    conv_ksize = [[3, 3], [3, 3], [3, 3]]\n",
    "    conv_strides = [1, 1]\n",
    "    pool_ksize = [[2, 2], [3, 3], [2, 2]]\n",
    "    pool_strides = [[2, 2], [3, 3], [2,2]]\n",
    "    cnvNet_1 = conv2d_maxpool(x, conv_outputs[0], conv_ksize[0], conv_strides, pool_ksize[0], pool_strides[0])\n",
    "    cnvNet_2 = conv2d_maxpool(cnvNet_1, conv_outputs[1], conv_ksize[1], conv_strides, pool_ksize[1], pool_strides[1])\n",
    "    cnvNet_3 = conv2d_maxpool(cnvNet_2, conv_outputs[2], conv_ksize[2], conv_strides, pool_ksize[2], pool_strides[2])\n",
    "    \n",
    "    # Apply a Flatten Layer\n",
    "    cnvNet_3 = flatten(cnvNet_3)\n",
    "    \n",
    "    # Apply 1, 2, or 3 Fully Connected Layers\n",
    "    # Play around with different number of outputs\n",
    "    fc_outputs = [192, 96, 48]\n",
    "    fconn_1 = fully_conn(cnvNet_3, fc_outputs[0])\n",
    "    fconn_1 = tf.nn.dropout(fconn_1, keep_prob)\n",
    "    \n",
    "    fconn_2 = fully_conn(fconn_1, fc_outputs[1])\n",
    "    fconn_2 = tf.nn.dropout(fconn_2, keep_prob)\n",
    "    \n",
    "    fconn_2 = fully_conn(fconn_1, fc_outputs[2])\n",
    "    fconn_2 = tf.nn.dropout(fconn_2, keep_prob)\n",
    "           \n",
    "    # Set this to the number of classes\n",
    "    # Function Definition from Above:\n",
    "    cnvNet_output = output(fconn_1, 10)\n",
    "    \n",
    "    # TODO: return output\n",
    "    return cnvNet_output\n",
    "\n",
    "##############################\n",
    "## Build the Neural Network ##\n",
    "##############################\n",
    "\n",
    "# Remove previous weights, bias, inputs, etc..\n",
    "tf.reset_default_graph()\n",
    "\n",
    "# Inputs\n",
    "x = neural_net_image_input((32, 32, 3))\n",
    "y = neural_net_label_input(10)\n",
    "keep_prob = neural_net_keep_prob_input()\n",
    "\n",
    "# Model\n",
    "logits = conv_net(x, keep_prob)\n",
    "\n",
    "# Name logits Tensor, so that is can be loaded from disk after training\n",
    "logits = tf.identity(logits, name='logits')\n",
    "\n",
    "# Loss and Optimizer\n",
    "cost = tf.reduce_mean(tf.nn.softmax_cross_entropy_with_logits(logits=logits, labels=y))\n",
    "optimizer = tf.train.AdamOptimizer().minimize(cost)\n",
    "\n",
    "# Accuracy\n",
    "correct_pred = tf.equal(tf.argmax(logits, 1), tf.argmax(y, 1))\n",
    "accuracy = tf.reduce_mean(tf.cast(correct_pred, tf.float32), name='accuracy')\n",
    "\n",
    "tests.test_conv_net(conv_net)"
   ]
  },
  {
   "cell_type": "markdown",
   "metadata": {},
   "source": [
    "## Train the Neural Network\n",
    "### Single Optimization\n",
    "Implement the function `train_neural_network` to do a single optimization.  The optimization should use `optimizer` to optimize in `session` with a `feed_dict` of the following:\n",
    "* `x` for image input\n",
    "* `y` for labels\n",
    "* `keep_prob` for keep probability for dropout\n",
    "\n",
    "This function will be called for each batch, so `tf.global_variables_initializer()` has already been called.\n",
    "\n",
    "Note: Nothing needs to be returned. This function is only optimizing the neural network."
   ]
  },
  {
   "cell_type": "code",
   "execution_count": 14,
   "metadata": {},
   "outputs": [
    {
     "name": "stdout",
     "output_type": "stream",
     "text": [
      "Tests Passed\n"
     ]
    }
   ],
   "source": [
    "def train_neural_network(session, optimizer, keep_probability, feature_batch, label_batch):\n",
    "    \"\"\"\n",
    "    Optimize the session on a batch of images and labels\n",
    "    : session: Current TensorFlow session\n",
    "    : optimizer: TensorFlow optimizer function\n",
    "    : keep_probability: keep probability\n",
    "    : feature_batch: Batch of Numpy image data\n",
    "    : label_batch: Batch of Numpy label data\n",
    "    \"\"\"\n",
    "    # Completed: Implement Function\n",
    "    session.run(optimizer, feed_dict={x: feature_batch, y: label_batch, \n",
    "                             keep_prob: keep_probability})\n",
    "\n",
    "\"\"\"\n",
    "DON'T MODIFY ANYTHING IN THIS CELL THAT IS BELOW THIS LINE\n",
    "\"\"\"\n",
    "tests.test_train_nn(train_neural_network)"
   ]
  },
  {
   "cell_type": "markdown",
   "metadata": {},
   "source": [
    "### Show Stats\n",
    "Implement the function `print_stats` to print loss and validation accuracy.  Use the global variables `valid_features` and `valid_labels` to calculate validation accuracy.  Use a keep probability of `1.0` to calculate the loss and validation accuracy."
   ]
  },
  {
   "cell_type": "code",
   "execution_count": 15,
   "metadata": {
    "collapsed": true
   },
   "outputs": [],
   "source": [
    "def print_stats(session, feature_batch, label_batch, cost, accuracy):\n",
    "    \"\"\"\n",
    "    Print information about loss and validation accuracy\n",
    "    : session: Current TensorFlow session\n",
    "    : feature_batch: Batch of Numpy image data\n",
    "    : label_batch: Batch of Numpy label data\n",
    "    : cost: TensorFlow cost function\n",
    "    : accuracy: TensorFlow accuracy function\n",
    "    \"\"\"\n",
    "    # Completed: Implement Function\n",
    "    cost = session.run(cost, feed_dict={x: feature_batch, y: label_batch, keep_prob: 1.0})\n",
    "    accuracy = session.run(accuracy, feed_dict={x: valid_features, y: valid_labels, keep_prob: 1.0})\n",
    "    print('Loss: {:>10.4f} Validation Accuracy: {:.5f}'.format(cost, accuracy))    "
   ]
  },
  {
   "cell_type": "markdown",
   "metadata": {},
   "source": [
    "### Hyperparameters\n",
    "Tune the following parameters:\n",
    "* Set `epochs` to the number of iterations until the network stops learning or start overfitting\n",
    "* Set `batch_size` to the highest number that your machine has memory for.  Most people set them to common sizes of memory:\n",
    " * 64\n",
    " * 128\n",
    " * 256\n",
    " * ...\n",
    "* Set `keep_probability` to the probability of keeping a node using dropout"
   ]
  },
  {
   "cell_type": "code",
   "execution_count": 18,
   "metadata": {
    "collapsed": true
   },
   "outputs": [],
   "source": [
    "# TODO: Tune Parameters\n",
    "epochs = 20\n",
    "batch_size = 256\n",
    "keep_probability = .85"
   ]
  },
  {
   "cell_type": "markdown",
   "metadata": {},
   "source": [
    "### Train on a Single CIFAR-10 Batch\n",
    "Instead of training the neural network on all the CIFAR-10 batches of data, let's use a single batch. This should save time while you iterate on the model to get a better accuracy.  Once the final validation accuracy is 50% or greater, run the model on all the data in the next section."
   ]
  },
  {
   "cell_type": "code",
   "execution_count": 19,
   "metadata": {},
   "outputs": [
    {
     "name": "stdout",
     "output_type": "stream",
     "text": [
      "Checking the Training on a Single Batch...\n",
      "Epoch  1, CIFAR-10 Batch 1:  Loss:     1.9853 Validation Accuracy: 0.24540\n",
      "Epoch  2, CIFAR-10 Batch 1:  Loss:     1.7102 Validation Accuracy: 0.33780\n",
      "Epoch  3, CIFAR-10 Batch 1:  Loss:     1.4947 Validation Accuracy: 0.38840\n",
      "Epoch  4, CIFAR-10 Batch 1:  Loss:     1.2787 Validation Accuracy: 0.42740\n",
      "Epoch  5, CIFAR-10 Batch 1:  Loss:     1.1026 Validation Accuracy: 0.46200\n",
      "Epoch  6, CIFAR-10 Batch 1:  Loss:     0.9177 Validation Accuracy: 0.47640\n",
      "Epoch  7, CIFAR-10 Batch 1:  Loss:     0.7589 Validation Accuracy: 0.48360\n",
      "Epoch  8, CIFAR-10 Batch 1:  Loss:     0.6407 Validation Accuracy: 0.49480\n",
      "Epoch  9, CIFAR-10 Batch 1:  Loss:     0.5522 Validation Accuracy: 0.50600\n",
      "Epoch 10, CIFAR-10 Batch 1:  Loss:     0.4450 Validation Accuracy: 0.51520\n",
      "Epoch 11, CIFAR-10 Batch 1:  Loss:     0.3972 Validation Accuracy: 0.52100\n",
      "Epoch 12, CIFAR-10 Batch 1:  Loss:     0.3329 Validation Accuracy: 0.52480\n",
      "Epoch 13, CIFAR-10 Batch 1:  Loss:     0.2932 Validation Accuracy: 0.53880\n",
      "Epoch 14, CIFAR-10 Batch 1:  Loss:     0.2914 Validation Accuracy: 0.53340\n",
      "Epoch 15, CIFAR-10 Batch 1:  Loss:     0.2930 Validation Accuracy: 0.52140\n",
      "Epoch 16, CIFAR-10 Batch 1:  Loss:     0.2438 Validation Accuracy: 0.54120\n",
      "Epoch 17, CIFAR-10 Batch 1:  Loss:     0.1802 Validation Accuracy: 0.54260\n",
      "Epoch 18, CIFAR-10 Batch 1:  Loss:     0.1630 Validation Accuracy: 0.55180\n",
      "Epoch 19, CIFAR-10 Batch 1:  Loss:     0.1321 Validation Accuracy: 0.56140\n",
      "Epoch 20, CIFAR-10 Batch 1:  Loss:     0.1185 Validation Accuracy: 0.57060\n"
     ]
    }
   ],
   "source": [
    "print('Checking the Training on a Single Batch...')\n",
    "with tf.Session() as sess:\n",
    "    # Initializing the variables\n",
    "    sess.run(tf.global_variables_initializer())\n",
    "    \n",
    "    # Training cycle\n",
    "    for epoch in range(epochs):\n",
    "        batch_i = 1\n",
    "        for batch_features, batch_labels in helper.load_preprocess_training_batch(batch_i, batch_size):\n",
    "            train_neural_network(sess, optimizer, keep_probability, batch_features, batch_labels)\n",
    "        print('Epoch {:>2}, CIFAR-10 Batch {}:  '.format(epoch + 1, batch_i), end='')\n",
    "        print_stats(sess, batch_features, batch_labels, cost, accuracy)"
   ]
  },
  {
   "cell_type": "markdown",
   "metadata": {},
   "source": [
    "### Fully Train the Model\n",
    "Now that you got a good accuracy with a single CIFAR-10 batch, try it with all five batches."
   ]
  },
  {
   "cell_type": "code",
   "execution_count": 21,
   "metadata": {},
   "outputs": [
    {
     "name": "stdout",
     "output_type": "stream",
     "text": [
      "Training...\n",
      "Epoch  1, CIFAR-10 Batch 1:  Loss:     2.0417 Validation Accuracy: 0.25580\n",
      "Epoch  1, CIFAR-10 Batch 2:  Loss:     1.7621 Validation Accuracy: 0.36080\n",
      "Epoch  1, CIFAR-10 Batch 3:  Loss:     1.4755 Validation Accuracy: 0.40800\n",
      "Epoch  1, CIFAR-10 Batch 4:  Loss:     1.5525 Validation Accuracy: 0.43960\n",
      "Epoch  1, CIFAR-10 Batch 5:  Loss:     1.4175 Validation Accuracy: 0.47880\n",
      "Epoch  2, CIFAR-10 Batch 1:  Loss:     1.5500 Validation Accuracy: 0.49540\n",
      "Epoch  2, CIFAR-10 Batch 2:  Loss:     1.2778 Validation Accuracy: 0.49900\n",
      "Epoch  2, CIFAR-10 Batch 3:  Loss:     0.9457 Validation Accuracy: 0.50440\n",
      "Epoch  2, CIFAR-10 Batch 4:  Loss:     1.0966 Validation Accuracy: 0.51960\n",
      "Epoch  2, CIFAR-10 Batch 5:  Loss:     1.0927 Validation Accuracy: 0.53920\n",
      "Epoch  3, CIFAR-10 Batch 1:  Loss:     1.1536 Validation Accuracy: 0.56120\n",
      "Epoch  3, CIFAR-10 Batch 2:  Loss:     0.9941 Validation Accuracy: 0.53820\n",
      "Epoch  3, CIFAR-10 Batch 3:  Loss:     0.6995 Validation Accuracy: 0.55420\n",
      "Epoch  3, CIFAR-10 Batch 4:  Loss:     0.8474 Validation Accuracy: 0.56600\n",
      "Epoch  3, CIFAR-10 Batch 5:  Loss:     0.8935 Validation Accuracy: 0.55720\n",
      "Epoch  4, CIFAR-10 Batch 1:  Loss:     0.8896 Validation Accuracy: 0.58120\n",
      "Epoch  4, CIFAR-10 Batch 2:  Loss:     0.7673 Validation Accuracy: 0.58400\n",
      "Epoch  4, CIFAR-10 Batch 3:  Loss:     0.4945 Validation Accuracy: 0.59140\n",
      "Epoch  4, CIFAR-10 Batch 4:  Loss:     0.6380 Validation Accuracy: 0.59380\n",
      "Epoch  4, CIFAR-10 Batch 5:  Loss:     0.6670 Validation Accuracy: 0.59200\n",
      "Epoch  5, CIFAR-10 Batch 1:  Loss:     0.7547 Validation Accuracy: 0.60420\n",
      "Epoch  5, CIFAR-10 Batch 2:  Loss:     0.5821 Validation Accuracy: 0.61780\n",
      "Epoch  5, CIFAR-10 Batch 3:  Loss:     0.3954 Validation Accuracy: 0.61240\n",
      "Epoch  5, CIFAR-10 Batch 4:  Loss:     0.5293 Validation Accuracy: 0.61280\n",
      "Epoch  5, CIFAR-10 Batch 5:  Loss:     0.5230 Validation Accuracy: 0.61040\n",
      "Epoch  6, CIFAR-10 Batch 1:  Loss:     0.6074 Validation Accuracy: 0.63000\n",
      "Epoch  6, CIFAR-10 Batch 2:  Loss:     0.4445 Validation Accuracy: 0.63040\n",
      "Epoch  6, CIFAR-10 Batch 3:  Loss:     0.3483 Validation Accuracy: 0.62800\n",
      "Epoch  6, CIFAR-10 Batch 4:  Loss:     0.4176 Validation Accuracy: 0.62200\n",
      "Epoch  6, CIFAR-10 Batch 5:  Loss:     0.4418 Validation Accuracy: 0.62600\n",
      "Epoch  7, CIFAR-10 Batch 1:  Loss:     0.4523 Validation Accuracy: 0.63220\n",
      "Epoch  7, CIFAR-10 Batch 2:  Loss:     0.3544 Validation Accuracy: 0.63840\n",
      "Epoch  7, CIFAR-10 Batch 3:  Loss:     0.3178 Validation Accuracy: 0.62500\n",
      "Epoch  7, CIFAR-10 Batch 4:  Loss:     0.3276 Validation Accuracy: 0.64160\n",
      "Epoch  7, CIFAR-10 Batch 5:  Loss:     0.3550 Validation Accuracy: 0.62180\n",
      "Epoch  8, CIFAR-10 Batch 1:  Loss:     0.3092 Validation Accuracy: 0.63860\n",
      "Epoch  8, CIFAR-10 Batch 2:  Loss:     0.2968 Validation Accuracy: 0.63380\n",
      "Epoch  8, CIFAR-10 Batch 3:  Loss:     0.2107 Validation Accuracy: 0.64280\n",
      "Epoch  8, CIFAR-10 Batch 4:  Loss:     0.2430 Validation Accuracy: 0.65140\n",
      "Epoch  8, CIFAR-10 Batch 5:  Loss:     0.2525 Validation Accuracy: 0.63220\n",
      "Epoch  9, CIFAR-10 Batch 1:  Loss:     0.2639 Validation Accuracy: 0.65020\n",
      "Epoch  9, CIFAR-10 Batch 2:  Loss:     0.2655 Validation Accuracy: 0.63880\n",
      "Epoch  9, CIFAR-10 Batch 3:  Loss:     0.1784 Validation Accuracy: 0.65640\n",
      "Epoch  9, CIFAR-10 Batch 4:  Loss:     0.2340 Validation Accuracy: 0.63880\n",
      "Epoch  9, CIFAR-10 Batch 5:  Loss:     0.2418 Validation Accuracy: 0.63060\n",
      "Epoch 10, CIFAR-10 Batch 1:  Loss:     0.2156 Validation Accuracy: 0.65220\n",
      "Epoch 10, CIFAR-10 Batch 2:  Loss:     0.2028 Validation Accuracy: 0.64560\n",
      "Epoch 10, CIFAR-10 Batch 3:  Loss:     0.1488 Validation Accuracy: 0.66320\n",
      "Epoch 10, CIFAR-10 Batch 4:  Loss:     0.1769 Validation Accuracy: 0.64400\n",
      "Epoch 10, CIFAR-10 Batch 5:  Loss:     0.1744 Validation Accuracy: 0.65400\n",
      "Epoch 11, CIFAR-10 Batch 1:  Loss:     0.1961 Validation Accuracy: 0.64420\n",
      "Epoch 11, CIFAR-10 Batch 2:  Loss:     0.1555 Validation Accuracy: 0.66540\n",
      "Epoch 11, CIFAR-10 Batch 3:  Loss:     0.1324 Validation Accuracy: 0.66160\n",
      "Epoch 11, CIFAR-10 Batch 4:  Loss:     0.1743 Validation Accuracy: 0.65400\n",
      "Epoch 11, CIFAR-10 Batch 5:  Loss:     0.1616 Validation Accuracy: 0.64600\n",
      "Epoch 12, CIFAR-10 Batch 1:  Loss:     0.1592 Validation Accuracy: 0.64180\n",
      "Epoch 12, CIFAR-10 Batch 2:  Loss:     0.1586 Validation Accuracy: 0.67020\n",
      "Epoch 12, CIFAR-10 Batch 3:  Loss:     0.1271 Validation Accuracy: 0.66120\n",
      "Epoch 12, CIFAR-10 Batch 4:  Loss:     0.1357 Validation Accuracy: 0.66160\n",
      "Epoch 12, CIFAR-10 Batch 5:  Loss:     0.1209 Validation Accuracy: 0.66040\n",
      "Epoch 13, CIFAR-10 Batch 1:  Loss:     0.1451 Validation Accuracy: 0.63080\n",
      "Epoch 13, CIFAR-10 Batch 2:  Loss:     0.1236 Validation Accuracy: 0.65440\n",
      "Epoch 13, CIFAR-10 Batch 3:  Loss:     0.0982 Validation Accuracy: 0.66200\n",
      "Epoch 13, CIFAR-10 Batch 4:  Loss:     0.1186 Validation Accuracy: 0.66380\n",
      "Epoch 13, CIFAR-10 Batch 5:  Loss:     0.0963 Validation Accuracy: 0.65320\n",
      "Epoch 14, CIFAR-10 Batch 1:  Loss:     0.1167 Validation Accuracy: 0.66560\n",
      "Epoch 14, CIFAR-10 Batch 2:  Loss:     0.1227 Validation Accuracy: 0.66420\n",
      "Epoch 14, CIFAR-10 Batch 3:  Loss:     0.0752 Validation Accuracy: 0.65680\n",
      "Epoch 14, CIFAR-10 Batch 4:  Loss:     0.0865 Validation Accuracy: 0.66900\n",
      "Epoch 14, CIFAR-10 Batch 5:  Loss:     0.0755 Validation Accuracy: 0.67100\n",
      "Epoch 15, CIFAR-10 Batch 1:  Loss:     0.0847 Validation Accuracy: 0.65160\n",
      "Epoch 15, CIFAR-10 Batch 2:  Loss:     0.0868 Validation Accuracy: 0.67840\n",
      "Epoch 15, CIFAR-10 Batch 3:  Loss:     0.0621 Validation Accuracy: 0.65840\n",
      "Epoch 15, CIFAR-10 Batch 4:  Loss:     0.0741 Validation Accuracy: 0.66900\n",
      "Epoch 15, CIFAR-10 Batch 5:  Loss:     0.0959 Validation Accuracy: 0.66720\n",
      "Epoch 16, CIFAR-10 Batch 1:  Loss:     0.0896 Validation Accuracy: 0.66480\n",
      "Epoch 16, CIFAR-10 Batch 2:  Loss:     0.0584 Validation Accuracy: 0.66580\n",
      "Epoch 16, CIFAR-10 Batch 3:  Loss:     0.0776 Validation Accuracy: 0.66300\n",
      "Epoch 16, CIFAR-10 Batch 4:  Loss:     0.0613 Validation Accuracy: 0.67960\n",
      "Epoch 16, CIFAR-10 Batch 5:  Loss:     0.0703 Validation Accuracy: 0.67360\n",
      "Epoch 17, CIFAR-10 Batch 1:  Loss:     0.0980 Validation Accuracy: 0.66180\n",
      "Epoch 17, CIFAR-10 Batch 2:  Loss:     0.0600 Validation Accuracy: 0.66900\n",
      "Epoch 17, CIFAR-10 Batch 3:  Loss:     0.0504 Validation Accuracy: 0.65460\n",
      "Epoch 17, CIFAR-10 Batch 4:  Loss:     0.0681 Validation Accuracy: 0.67660\n",
      "Epoch 17, CIFAR-10 Batch 5:  Loss:     0.0570 Validation Accuracy: 0.67880\n",
      "Epoch 18, CIFAR-10 Batch 1:  Loss:     0.0719 Validation Accuracy: 0.67960\n",
      "Epoch 18, CIFAR-10 Batch 2:  Loss:     0.0561 Validation Accuracy: 0.67320\n",
      "Epoch 18, CIFAR-10 Batch 3:  Loss:     0.0588 Validation Accuracy: 0.65980\n",
      "Epoch 18, CIFAR-10 Batch 4:  Loss:     0.0539 Validation Accuracy: 0.68240\n",
      "Epoch 18, CIFAR-10 Batch 5:  Loss:     0.0488 Validation Accuracy: 0.68520\n",
      "Epoch 19, CIFAR-10 Batch 1:  Loss:     0.0627 Validation Accuracy: 0.67600\n",
      "Epoch 19, CIFAR-10 Batch 2:  Loss:     0.0551 Validation Accuracy: 0.65980\n",
      "Epoch 19, CIFAR-10 Batch 3:  Loss:     0.0702 Validation Accuracy: 0.65140\n",
      "Epoch 19, CIFAR-10 Batch 4:  Loss:     0.0574 Validation Accuracy: 0.68960\n",
      "Epoch 19, CIFAR-10 Batch 5:  Loss:     0.0405 Validation Accuracy: 0.67640\n",
      "Epoch 20, CIFAR-10 Batch 1:  Loss:     0.0512 Validation Accuracy: 0.67840\n",
      "Epoch 20, CIFAR-10 Batch 2:  Loss:     0.0347 Validation Accuracy: 0.66600\n",
      "Epoch 20, CIFAR-10 Batch 3:  Loss:     0.0591 Validation Accuracy: 0.64540\n",
      "Epoch 20, CIFAR-10 Batch 4:  Loss:     0.0496 Validation Accuracy: 0.68540\n",
      "Epoch 20, CIFAR-10 Batch 5:  Loss:     0.0382 Validation Accuracy: 0.68700\n"
     ]
    }
   ],
   "source": [
    "save_model_path = './image_classification'\n",
    "\n",
    "print('Training...')\n",
    "with tf.Session() as sess:\n",
    "    # Initializing the variables\n",
    "    sess.run(tf.global_variables_initializer())\n",
    "    \n",
    "    # Training cycle\n",
    "    for epoch in range(epochs):\n",
    "        # Loop over all batches\n",
    "        n_batches = 5\n",
    "        for batch_i in range(1, n_batches + 1):\n",
    "            for batch_features, batch_labels in helper.load_preprocess_training_batch(batch_i, batch_size):\n",
    "                train_neural_network(sess, optimizer, keep_probability, batch_features, batch_labels)\n",
    "            print('Epoch {:>2}, CIFAR-10 Batch {}:  '.format(epoch + 1, batch_i), end='')\n",
    "            print_stats(sess, batch_features, batch_labels, cost, accuracy)\n",
    "            \n",
    "    # Save Model\n",
    "    saver = tf.train.Saver()\n",
    "    save_path = saver.save(sess, save_model_path)"
   ]
  },
  {
   "cell_type": "markdown",
   "metadata": {},
   "source": [
    "# Checkpoint\n",
    "The model has been saved to disk.\n",
    "## Test Model\n",
    "Test your model against the test dataset.  This will be your final accuracy. You should have an accuracy greater than 50%. If you don't, keep tweaking the model architecture and parameters."
   ]
  },
  {
   "cell_type": "code",
   "execution_count": 22,
   "metadata": {},
   "outputs": [
    {
     "name": "stdout",
     "output_type": "stream",
     "text": [
      "INFO:tensorflow:Restoring parameters from ./image_classification\n",
      "Testing Accuracy: 0.6857421875\n",
      "\n"
     ]
    },
    {
     "data": {
      "image/png": "[encoded data removed]",
      "text/plain": [
       "<matplotlib.figure.Figure at 0x105e27240>"
      ]
     },
     "metadata": {
      "image/png": {
       "height": 319,
       "width": 355
      }
     },
     "output_type": "display_data"
    }
   ],
   "source": [
    "%matplotlib inline\n",
    "%config InlineBackend.figure_format = 'retina'\n",
    "\n",
    "import tensorflow as tf\n",
    "import pickle\n",
    "import helper\n",
    "import random\n",
    "\n",
    "# Set batch size if not already set\n",
    "try:\n",
    "    if batch_size:\n",
    "        pass\n",
    "except NameError:\n",
    "    batch_size = 64\n",
    "\n",
    "save_model_path = './image_classification'\n",
    "n_samples = 4\n",
    "top_n_predictions = 3\n",
    "\n",
    "def test_model():\n",
    "    \"\"\"\n",
    "    Test the saved model against the test dataset\n",
    "    \"\"\"\n",
    "\n",
    "    test_features, test_labels = pickle.load(open('preprocess_test.p', mode='rb'))\n",
    "    loaded_graph = tf.Graph()\n",
    "\n",
    "    with tf.Session(graph=loaded_graph) as sess:\n",
    "        # Load model\n",
    "        loader = tf.train.import_meta_graph(save_model_path + '.meta')\n",
    "        loader.restore(sess, save_model_path)\n",
    "\n",
    "        # Get Tensors from loaded model\n",
    "        loaded_x = loaded_graph.get_tensor_by_name('x:0')\n",
    "        loaded_y = loaded_graph.get_tensor_by_name('y:0')\n",
    "        loaded_keep_prob = loaded_graph.get_tensor_by_name('keep_prob:0')\n",
    "        loaded_logits = loaded_graph.get_tensor_by_name('logits:0')\n",
    "        loaded_acc = loaded_graph.get_tensor_by_name('accuracy:0')\n",
    "        \n",
    "        # Get accuracy in batches for memory limitations\n",
    "        test_batch_acc_total = 0\n",
    "        test_batch_count = 0\n",
    "        \n",
    "        for test_feature_batch, test_label_batch in helper.batch_features_labels(test_features, test_labels, batch_size):\n",
    "            test_batch_acc_total += sess.run(\n",
    "                loaded_acc,\n",
    "                feed_dict={loaded_x: test_feature_batch, loaded_y: test_label_batch, loaded_keep_prob: 1.0})\n",
    "            test_batch_count += 1\n",
    "\n",
    "        print('Testing Accuracy: {}\\n'.format(test_batch_acc_total/test_batch_count))\n",
    "\n",
    "        # Print Random Samples\n",
    "        random_test_features, random_test_labels = tuple(zip(*random.sample(list(zip(test_features, test_labels)), n_samples)))\n",
    "        random_test_predictions = sess.run(\n",
    "            tf.nn.top_k(tf.nn.softmax(loaded_logits), top_n_predictions),\n",
    "            feed_dict={loaded_x: random_test_features, loaded_y: random_test_labels, loaded_keep_prob: 1.0})\n",
    "        helper.display_image_predictions(random_test_features, random_test_labels, random_test_predictions)\n",
    "\n",
    "\n",
    "test_model()"
   ]
  },
  {
   "cell_type": "markdown",
   "metadata": {},
   "source": [
    "## RESULTS\n",
    "### Why 50-80% Accuracy?\n",
    "50% isn't bad for a simple CNN.  Pure guessing would get 10% accuracy. However, you might notice people are getting scores [well above 80%](http://rodrigob.github.io/are_we_there_yet/build/classification_datasets_results.html#43494641522d3130). \n",
    "\n",
    "##### I will keep training the network to get closer to 90%!!"
   ]
  }
 ],
 "metadata": {
  "kernelspec": {
   "display_name": "Python 3",
   "language": "python",
   "name": "python3"
  },
  "language_info": {
   "codemirror_mode": {
    "name": "ipython",
    "version": 3
   },
   "file_extension": ".py",
   "mimetype": "text/x-python",
   "name": "python",
   "nbconvert_exporter": "python",
   "pygments_lexer": "ipython3",
   "version": "3.5.4"
  }
 },
 "nbformat": 4,
 "nbformat_minor": 1
}
